{
  "nbformat": 4,
  "nbformat_minor": 0,
  "metadata": {
    "colab": {
      "name": "Input Validation.ipynb",
      "provenance": [],
      "authorship_tag": "ABX9TyPgLDv116OX6QLxUCqShigJ",
      "include_colab_link": true
    },
    "kernelspec": {
      "name": "python3",
      "display_name": "Python 3"
    },
    "language_info": {
      "name": "python"
    }
  },
  "cells": [
    {
      "cell_type": "markdown",
      "metadata": {
        "id": "view-in-github",
        "colab_type": "text"
      },
      "source": [
        "<a href=\"https://colab.research.google.com/github/mjschleis/boring2/blob/main/Input_Validation.ipynb\" target=\"_parent\"><img src=\"https://colab.research.google.com/assets/colab-badge.svg\" alt=\"Open In Colab\"/></a>"
      ]
    },
    {
      "cell_type": "markdown",
      "metadata": {
        "id": "sWzTVSr-pZ3n"
      },
      "source": [
        "Imagine asking for a user's age.  You wouldn't accept negative numbers or words.  Below is the best way we know how to do it right now."
      ]
    },
    {
      "cell_type": "code",
      "metadata": {
        "colab": {
          "base_uri": "https://localhost:8080/"
        },
        "id": "R72U-AqDpFSd",
        "outputId": "b159d8b2-baf7-46e0-fdba-01fe1f5f8ca0"
      },
      "source": [
        "while True:\n",
        "    print('Enter your age:')\n",
        "    age = input()\n",
        "    try:\n",
        "        age = int(age)\n",
        "    except:\n",
        "        print('Please use numeric digits.')\n",
        "        continue\n",
        "    if age < 1:\n",
        "        print('Please enter a positive number.')\n",
        "        continue\n",
        "    break\n",
        "\n",
        "print(f'Your age is {age}.')"
      ],
      "execution_count": null,
      "outputs": [
        {
          "output_type": "stream",
          "text": [
            "Enter your age:\n",
            "55\n",
            "Your age is 55.\n"
          ],
          "name": "stdout"
        }
      ]
    },
    {
      "cell_type": "markdown",
      "metadata": {
        "id": "TMTmojZ6p4JR"
      },
      "source": [
        "Fully validating all input is lengthy, often incomplete, and there's a better way. Introducing the third party library PyInput Plus\n",
        "\n"
      ]
    },
    {
      "cell_type": "code",
      "metadata": {
        "colab": {
          "base_uri": "https://localhost:8080/"
        },
        "id": "7JbU3E2NqKks",
        "outputId": "758185a3-5498-414b-f320-38f6a5a3a67e"
      },
      "source": [
        "!pip install pyinputplus\n"
      ],
      "execution_count": null,
      "outputs": [
        {
          "output_type": "stream",
          "text": [
            "Collecting pyinputplus\n",
            "  Downloading https://files.pythonhosted.org/packages/6a/d4/afb45ed88323ef6d3c4cbf48e9c1bac38059a168b8392a56f3b8f9d1d39c/PyInputPlus-0.2.12.tar.gz\n",
            "  Installing build dependencies ... \u001b[?25l\u001b[?25hdone\n",
            "  Getting requirements to build wheel ... \u001b[?25l\u001b[?25hdone\n",
            "    Preparing wheel metadata ... \u001b[?25l\u001b[?25hdone\n",
            "Collecting pysimplevalidate>=0.2.7\n",
            "  Downloading https://files.pythonhosted.org/packages/0b/54/8fd99436073dbdbba719e08e1b7e5f3f36a8cc9e518612e1b97e4806d2ce/PySimpleValidate-0.2.12.tar.gz\n",
            "  Installing build dependencies ... \u001b[?25l\u001b[?25hdone\n",
            "  Getting requirements to build wheel ... \u001b[?25l\u001b[?25hdone\n",
            "    Preparing wheel metadata ... \u001b[?25l\u001b[?25hdone\n",
            "Collecting stdiomask>=0.0.3\n",
            "  Downloading https://files.pythonhosted.org/packages/47/a2/f72fd263cecb11ed4cc96bd31608359e1df30349c665674e5c35ea9a72d6/stdiomask-0.0.6.tar.gz\n",
            "  Installing build dependencies ... \u001b[?25l\u001b[?25hdone\n",
            "  Getting requirements to build wheel ... \u001b[?25l\u001b[?25hdone\n",
            "    Preparing wheel metadata ... \u001b[?25l\u001b[?25hdone\n",
            "Building wheels for collected packages: pyinputplus, pysimplevalidate, stdiomask\n",
            "  Building wheel for pyinputplus (PEP 517) ... \u001b[?25l\u001b[?25hdone\n",
            "  Created wheel for pyinputplus: filename=PyInputPlus-0.2.12-cp37-none-any.whl size=11315 sha256=510996d427efe40397c8f7adfb362bf08c5d016e585e2d48096f74017b36de34\n",
            "  Stored in directory: /root/.cache/pip/wheels/6a/fe/06/583326d5cf9ab6319b08f44ffbb8b804acb97cec61274c4b7b\n",
            "  Building wheel for pysimplevalidate (PEP 517) ... \u001b[?25l\u001b[?25hdone\n",
            "  Created wheel for pysimplevalidate: filename=PySimpleValidate-0.2.12-cp37-none-any.whl size=16192 sha256=c16992a25127bfd7495d228894e9cff928e12b4d04a33d7d064971484bbdf5ad\n",
            "  Stored in directory: /root/.cache/pip/wheels/11/08/e4/f395618ca9df12cfd52aa0d916153584a7e277bd5e87cf2fc2\n",
            "  Building wheel for stdiomask (PEP 517) ... \u001b[?25l\u001b[?25hdone\n",
            "  Created wheel for stdiomask: filename=stdiomask-0.0.6-cp37-none-any.whl size=3320 sha256=cf7f5f8d98699c1473dee687c4ad66166837c2ea1b0bbc6725fb72aea85d87f8\n",
            "  Stored in directory: /root/.cache/pip/wheels/a6/ff/34/66b26f570405c34acc8f39b8ec3f27f5cbeea05234f18959fd\n",
            "Successfully built pyinputplus pysimplevalidate stdiomask\n",
            "Installing collected packages: pysimplevalidate, stdiomask, pyinputplus\n",
            "Successfully installed pyinputplus-0.2.12 pysimplevalidate-0.2.12 stdiomask-0.0.6\n"
          ],
          "name": "stdout"
        }
      ]
    },
    {
      "cell_type": "markdown",
      "metadata": {
        "id": "znMqQCfJvVmQ"
      },
      "source": [
        ".inputNum() only accepts digits\n",
        "\n",
        "there is also inputStr, Choice, Menu, YesNo and more\n"
      ]
    },
    {
      "cell_type": "code",
      "metadata": {
        "colab": {
          "base_uri": "https://localhost:8080/"
        },
        "id": "goozLl0svee-",
        "outputId": "a9e53bbe-34a5-4680-c364-eccbb12dd5a3"
      },
      "source": [
        "import pyinputplus as pyip\n",
        "response = pyip.inputNum()"
      ],
      "execution_count": null,
      "outputs": [
        {
          "output_type": "stream",
          "text": [
            "five\n",
            "'five' is not a number.\n",
            "42\n"
          ],
          "name": "stdout"
        }
      ]
    },
    {
      "cell_type": "code",
      "metadata": {
        "colab": {
          "base_uri": "https://localhost:8080/"
        },
        "id": "e2ltaDyEvu5v",
        "outputId": "11e37290-a531-485e-eedc-0b23d1969148"
      },
      "source": [
        "repsonse = pyip.inputMenu([\"hello\", \"there\"], \"enter an option \\n\")"
      ],
      "execution_count": null,
      "outputs": [
        {
          "output_type": "stream",
          "text": [
            "enter an option \n",
            "* hello\n",
            "* there\n",
            "mike\n",
            "'mike' is not a valid choice.\n",
            "enter an option \n",
            "* hello\n",
            "* there\n",
            "ther4e\n",
            "'ther4e' is not a valid choice.\n",
            "enter an option \n",
            "* hello\n",
            "* there\n",
            "there\n"
          ],
          "name": "stdout"
        }
      ]
    },
    {
      "cell_type": "markdown",
      "metadata": {
        "id": "at6d3Tdxwc9m"
      },
      "source": [
        "optiional things to do with inputNum, Int, Float are having min, max, greaterThan, lessThan\n",
        "\n",
        "optional restictions are to \"limit\" the attempts, \"timeout\" after time, or provide a \"default\", or allow a certain pattern called regex.\n",
        "\n",
        "you can also do importCustom() to make a custom one"
      ]
    },
    {
      "cell_type": "code",
      "metadata": {
        "colab": {
          "base_uri": "https://localhost:8080/"
        },
        "id": "rsKY0QbfwQLZ",
        "outputId": "f6af21d6-c86f-4207-df43-f75bc3799995"
      },
      "source": [
        "response = pyip.inputInt(prompt='Enter a number: ', max=3)"
      ],
      "execution_count": null,
      "outputs": [
        {
          "output_type": "stream",
          "text": [
            "Enter a number: 55\n",
            "Number must be at maximum 3.\n",
            "Enter a number: 2\n"
          ],
          "name": "stdout"
        }
      ]
    },
    {
      "cell_type": "code",
      "metadata": {
        "colab": {
          "base_uri": "https://localhost:8080/"
        },
        "id": "j5BsHk8xxEeP",
        "outputId": "4adead16-095f-4608-fec9-3675bec8ae7c"
      },
      "source": [
        "import pyinputplus as pyip\n",
        "def addsUpToTen(numbers):\n",
        "  numbersList = list(numbers)\n",
        "  for i, digit in enumerate(numbersList):\n",
        "    numbersList[i] = int(digit)\n",
        "  if sum(numbersList) != 10:\n",
        "    raise Exception('The digits must add up to 10, not %s.' %(sum(numbersList)))\n",
        "  return int(numbers)\n",
        "\n",
        "response = pyip.inputCustom(addsUpToTen)"
      ],
      "execution_count": null,
      "outputs": [
        {
          "output_type": "stream",
          "text": [
            "5\n",
            "The digits must add up to 10, not 5.\n",
            "1243333\n",
            "The digits must add up to 10, not 19.\n",
            "55\n"
          ],
          "name": "stdout"
        }
      ]
    }
  ]
}
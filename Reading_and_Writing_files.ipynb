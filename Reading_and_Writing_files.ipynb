{
  "nbformat": 4,
  "nbformat_minor": 0,
  "metadata": {
    "colab": {
      "name": "Reading and Writing files.ipynb",
      "provenance": [],
      "authorship_tag": "ABX9TyPJwFuRpmF0BGr9667m8P88",
      "include_colab_link": true
    },
    "kernelspec": {
      "name": "python3",
      "display_name": "Python 3"
    },
    "language_info": {
      "name": "python"
    }
  },
  "cells": [
    {
      "cell_type": "markdown",
      "metadata": {
        "id": "view-in-github",
        "colab_type": "text"
      },
      "source": [
        "<a href=\"https://colab.research.google.com/github/mjschleis/boring2/blob/main/Reading_and_Writing_files.ipynb\" target=\"_parent\"><img src=\"https://colab.research.google.com/assets/colab-badge.svg\" alt=\"Open In Colab\"/></a>"
      ]
    },
    {
      "cell_type": "markdown",
      "metadata": {
        "id": "kbJ0jbfRtu6A"
      },
      "source": [
        "Files and File Paths"
      ]
    },
    {
      "cell_type": "code",
      "metadata": {
        "id": "CZjuTjHSuYTL",
        "colab": {
          "base_uri": "https://localhost:8080/"
        },
        "outputId": "51085aa3-d0ad-425c-b6d1-673037f4eb45"
      },
      "source": [
        "!pip install pathlib "
      ],
      "execution_count": null,
      "outputs": [
        {
          "output_type": "stream",
          "text": [
            "Requirement already satisfied: pathlib in /usr/local/lib/python3.7/dist-packages (1.0.1)\n"
          ],
          "name": "stdout"
        }
      ]
    },
    {
      "cell_type": "markdown",
      "metadata": {
        "id": "kfzA1CGatu9d"
      },
      "source": [
        "Backslash on Windows and Forward Slash on macOS and Linux"
      ]
    },
    {
      "cell_type": "code",
      "metadata": {
        "id": "trYRFL7eqzx4"
      },
      "source": [
        "#Path() will handle the slash situation for all operating systems at the same time\n",
        "#its output varies depending on which machine runs the code.  kind of interesting\n",
        "\n"
      ],
      "execution_count": null,
      "outputs": []
    },
    {
      "cell_type": "markdown",
      "metadata": {
        "id": "6dRZLl5NtvCL"
      },
      "source": [
        "Using the / Operator to Join Paths"
      ]
    },
    {
      "cell_type": "code",
      "metadata": {
        "colab": {
          "base_uri": "https://localhost:8080/",
          "height": 72
        },
        "id": "CopvwSH5wK00",
        "outputId": "fdc394cf-b975-4038-ac32-c36d0dc7ff79"
      },
      "source": [
        "from pathlib import Path\n",
        "print(2+2)\n",
        "print(\"hello\" + \" world\")\n",
        "\n",
        "str(Path('spam', 'bacon', 'eggs'))\n"
      ],
      "execution_count": null,
      "outputs": [
        {
          "output_type": "stream",
          "text": [
            "4\n",
            "hello world\n"
          ],
          "name": "stdout"
        },
        {
          "output_type": "execute_result",
          "data": {
            "application/vnd.google.colaboratory.intrinsic+json": {
              "type": "string"
            },
            "text/plain": [
              "'spam/bacon/eggs'"
            ]
          },
          "metadata": {
            "tags": []
          },
          "execution_count": 4
        }
      ]
    },
    {
      "cell_type": "markdown",
      "metadata": {
        "id": "zc8tBDl-tvHS"
      },
      "source": [
        "The Current Working Directory or cwd"
      ]
    },
    {
      "cell_type": "code",
      "metadata": {
        "colab": {
          "base_uri": "https://localhost:8080/"
        },
        "id": "9WyvpRv-By6-",
        "outputId": "1379d7f5-dd8f-4002-8d61-7026e60fdcd4"
      },
      "source": [
        "Path.cwd()\n",
        "#can be changed to anything that exists\n",
        "os.chdir(\"C:\\Windows\\System32\")\n",
        "\n"
      ],
      "execution_count": null,
      "outputs": [
        {
          "output_type": "execute_result",
          "data": {
            "text/plain": [
              "PosixPath('/content')"
            ]
          },
          "metadata": {
            "tags": []
          },
          "execution_count": 12
        }
      ]
    },
    {
      "cell_type": "markdown",
      "metadata": {
        "id": "G3HTNlz_tvJ8"
      },
      "source": [
        "The Home Directory"
      ]
    },
    {
      "cell_type": "code",
      "metadata": {
        "colab": {
          "base_uri": "https://localhost:8080/"
        },
        "id": "arhKeL6VDtyk",
        "outputId": "bb981380-9f3c-4c40-d358-746d5f88febe"
      },
      "source": [
        "Path.home()"
      ],
      "execution_count": null,
      "outputs": [
        {
          "output_type": "execute_result",
          "data": {
            "text/plain": [
              "PosixPath('/root')"
            ]
          },
          "metadata": {
            "tags": []
          },
          "execution_count": 13
        }
      ]
    },
    {
      "cell_type": "markdown",
      "metadata": {
        "id": "rMygZcBrtvMs"
      },
      "source": [
        "**Absolute** (beginning with the Root, like C:\\) vs. **Relative Paths** (beginning with cwd) (one folder up = ..\\)"
      ]
    },
    {
      "cell_type": "markdown",
      "metadata": {
        "id": "Yct3-2-mtvPa"
      },
      "source": [
        "Creating New Folders Using the os.makedirs() Function"
      ]
    },
    {
      "cell_type": "code",
      "metadata": {
        "id": "IA0cYFdoxYEq"
      },
      "source": [
        "import os\n",
        "os.makedirs('C:\\\\delicious\\\\walnut\\\\waffles')\n",
        "\n",
        "#or\n",
        "\n",
        "from pathlib import Path\n",
        "Path(r'C:\\Users\\Al\\spam').mkdir()"
      ],
      "execution_count": null,
      "outputs": []
    },
    {
      "cell_type": "markdown",
      "metadata": {
        "id": "hKkmysqetvSC"
      },
      "source": [
        "Handling Absolute and Relative Paths"
      ]
    },
    {
      "cell_type": "code",
      "metadata": {
        "colab": {
          "base_uri": "https://localhost:8080/"
        },
        "id": "oLkML3U7EpBL",
        "outputId": "196865bd-0de1-4285-9ba4-b4a496ec40f8"
      },
      "source": [
        "Path.cwd().is_absolute()\n",
        "\n",
        "Path.cwd()\n",
        "Path.cwd()/Path('my/relative/path') #makes a path deeper than cwd\n",
        "Path.home() / Path('my/relative/path') #makes an absolute path\n",
        "\n"
      ],
      "execution_count": null,
      "outputs": [
        {
          "output_type": "execute_result",
          "data": {
            "text/plain": [
              "True"
            ]
          },
          "metadata": {
            "tags": []
          },
          "execution_count": 14
        }
      ]
    },
    {
      "cell_type": "markdown",
      "metadata": {
        "id": "8y0JvjB0tvU0"
      },
      "source": [
        "Getting the Parts of a File Path\n",
        "\n",
        "Drive C:\n",
        "Anchor C:\\\n",
        "Parent C:\\Users\\Al\\\n",
        "Name spam.txt\n",
        "Stem spam\n",
        "Suffix txt"
      ]
    },
    {
      "cell_type": "code",
      "metadata": {
        "id": "hRTVXzZiL4O6"
      },
      "source": [
        "p = Path('C:\\Users\\Al\\spam.txt')\n",
        "\n",
        "p.anchor # = C:\\\\\n",
        "p.stem # spam\n",
        "p.parent[2] #can go up any number of folders"
      ],
      "execution_count": null,
      "outputs": []
    },
    {
      "cell_type": "markdown",
      "metadata": {
        "id": "xjFbrwxyuBCc"
      },
      "source": [
        "Finding File Sizes and Folder Contents"
      ]
    },
    {
      "cell_type": "code",
      "metadata": {
        "id": "bVoKWQMLMP26"
      },
      "source": [
        "os.path.getsize(path) \n"
      ],
      "execution_count": null,
      "outputs": []
    },
    {
      "cell_type": "markdown",
      "metadata": {
        "id": "6yVDEbIUuBFC"
      },
      "source": [
        "Modifying a List of Files Using Glob Patterns"
      ]
    },
    {
      "cell_type": "code",
      "metadata": {
        "id": "BcU4AMWNMuW0"
      },
      "source": [
        "#this is where I check out"
      ],
      "execution_count": null,
      "outputs": []
    },
    {
      "cell_type": "markdown",
      "metadata": {
        "id": "z0kc9Gn5uBHj"
      },
      "source": [
        "Checking Path Validity"
      ]
    },
    {
      "cell_type": "code",
      "metadata": {
        "id": "4pA1hjuCM4uy"
      },
      "source": [
        "winDir = Path('C:\\WIndows')\n",
        "\n",
        "winDir.exists() #true\n",
        "winDir.is_dir() #true\n",
        "calcFile.is_file() #true"
      ],
      "execution_count": null,
      "outputs": []
    },
    {
      "cell_type": "markdown",
      "metadata": {
        "id": "vr_nrYGsuBKS"
      },
      "source": [
        "The File Reading/Writing Process"
      ]
    },
    {
      "cell_type": "code",
      "metadata": {
        "colab": {
          "base_uri": "https://localhost:8080/",
          "height": 36
        },
        "id": "n7Kl1BOaNLvp",
        "outputId": "b192875d-828e-4050-ee2f-4a566a46f4ef"
      },
      "source": [
        "p = Path(\"spam.txt\")\n",
        "p.write_text(\"Hello World\")\n",
        "p.read_text()\n",
        "\n"
      ],
      "execution_count": null,
      "outputs": [
        {
          "output_type": "execute_result",
          "data": {
            "application/vnd.google.colaboratory.intrinsic+json": {
              "type": "string"
            },
            "text/plain": [
              "'Hello World'"
            ]
          },
          "metadata": {
            "tags": []
          },
          "execution_count": 15
        }
      ]
    },
    {
      "cell_type": "markdown",
      "metadata": {
        "id": "1jBSZoqSuMgd"
      },
      "source": [
        "\n",
        "Opening Files with the open() Function\n",
        "\n"
      ]
    },
    {
      "cell_type": "code",
      "metadata": {
        "id": "9ZDgeyp4NofD"
      },
      "source": [
        "#fileObject.read()\n",
        "#fileObject.readlines()\n",
        "\n"
      ],
      "execution_count": null,
      "outputs": []
    },
    {
      "cell_type": "markdown",
      "metadata": {
        "id": "sV8AceEQuMjU"
      },
      "source": [
        "Reading the Contents of Files"
      ]
    },
    {
      "cell_type": "markdown",
      "metadata": {
        "id": "kEMNul3kuMmT"
      },
      "source": [
        "Writing to Files (Open first!)\n",
        "\n"
      ]
    },
    {
      "cell_type": "code",
      "metadata": {
        "id": "1dkxOLIXQ0xh"
      },
      "source": [
        "baconFile = open('bacon.txt', 'w')   \n",
        "baconFile.write('Hello, world!\\n')\n",
        "baconFile.close()\n",
        "\n",
        "baconFile = open('bacon.txt')\n",
        "content = baconFile.read()\n",
        "baconFile.close()\n",
        "print(content)"
      ],
      "execution_count": null,
      "outputs": []
    },
    {
      "cell_type": "markdown",
      "metadata": {
        "id": "UNjaUkjRuMuC"
      },
      "source": [
        "Saving Variables with the shelve Module (in a text file you can get later)"
      ]
    },
    {
      "cell_type": "code",
      "metadata": {
        "id": "JdEVBWUqRE24"
      },
      "source": [
        "import shelve\n",
        "shelfFile = shelve.open('mydata')\n",
        "cats = ['Zophie', 'Pooka', 'Simon']\n",
        "shelfFile['cats'] = cats\n",
        "shelfFile.close()"
      ],
      "execution_count": null,
      "outputs": []
    }
  ]
}
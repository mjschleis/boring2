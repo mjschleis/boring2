{
  "nbformat": 4,
  "nbformat_minor": 0,
  "metadata": {
    "colab": {
      "name": "Lists.ipynb",
      "provenance": [],
      "collapsed_sections": [],
      "authorship_tag": "ABX9TyNpCi+trsdvWVLwR45q+qzA",
      "include_colab_link": true
    },
    "kernelspec": {
      "name": "python3",
      "display_name": "Python 3"
    },
    "language_info": {
      "name": "python"
    }
  },
  "cells": [
    {
      "cell_type": "markdown",
      "metadata": {
        "id": "view-in-github",
        "colab_type": "text"
      },
      "source": [
        "<a href=\"https://colab.research.google.com/github/mjschleis/boring2/blob/main/Lists.ipynb\" target=\"_parent\"><img src=\"https://colab.research.google.com/assets/colab-badge.svg\" alt=\"Open In Colab\"/></a>"
      ]
    },
    {
      "cell_type": "markdown",
      "metadata": {
        "id": "MA1596iNOcEi"
      },
      "source": [
        "Random List Properties"
      ]
    },
    {
      "cell_type": "code",
      "metadata": {
        "id": "tRGXC1iROg6c"
      },
      "source": [
        "#variable can be assigned to a single item which itself contains a list of items.  those items can themselves be lists.\n",
        "spam = [\"cat\", \"bat\", True, 3.1415, 42]\n",
        "print(spam[2])\n",
        "print(spam[-2])\n",
        "print(spam[2:])\n",
        "\n",
        "animal, flying, boolean, pi, number = spam\n",
        "print(flying)\n",
        "\n",
        "spam[1] = \"bird\"\n",
        "\n",
        "42 in spam"
      ],
      "execution_count": null,
      "outputs": []
    },
    {
      "cell_type": "markdown",
      "metadata": {
        "id": "l1bUpPwUPPVB"
      },
      "source": [
        "Manipulating Lists"
      ]
    },
    {
      "cell_type": "code",
      "metadata": {
        "id": "UuPZEFSoPSI-"
      },
      "source": [
        "nums = [1,2,3]\n",
        "chars = [\"a\", \"b\", \"c\", \"d\"]\n",
        "print(nums + chars)\n",
        "\n",
        "del nums[2]\n",
        "print(nums)\n",
        "\n",
        "\n"
      ],
      "execution_count": null,
      "outputs": []
    },
    {
      "cell_type": "markdown",
      "metadata": {
        "id": "_xEbKJb-PlSA"
      },
      "source": [
        "Loops"
      ]
    },
    {
      "cell_type": "code",
      "metadata": {
        "id": "R8QraT0jPmRl"
      },
      "source": [
        "spam = [\"cat\", \"bat\", True, 3.1415, 42]\n",
        "\n",
        "for i in spam:\n",
        "  print(i)\n",
        "\n",
        "for i in range(len(spam)):\n",
        "  print (i)\n",
        "  print (spam[i])"
      ],
      "execution_count": null,
      "outputs": []
    },
    {
      "cell_type": "markdown",
      "metadata": {
        "id": "P_0C_P7_QyYH"
      },
      "source": [
        "Methods"
      ]
    },
    {
      "cell_type": "code",
      "metadata": {
        "id": "263E04-uQ0NJ"
      },
      "source": [
        "spam = [\"cat\", \"bat\", True, 3.1415, 42]\n",
        "spam.index(\"bat\")\n",
        "spam.append(\"mouse\")\n",
        "spam.insert(1, \"chicken\")\n",
        "spam.remove(True)\n",
        "#spam.sort() #won't work since there are numbers and strings\n",
        "#spam.reverse() #same\n",
        "\n",
        "\n"
      ],
      "execution_count": null,
      "outputs": []
    },
    {
      "cell_type": "markdown",
      "metadata": {
        "id": "4BPRKOaJRmIq"
      },
      "source": [
        "Mutable"
      ]
    },
    {
      "cell_type": "code",
      "metadata": {
        "id": "PNtqj6k5RozM"
      },
      "source": [
        "name = \"Zophie\"\n",
        "print(name[1])\n",
        "#name[1] = \"O\" #doesn't work since strings are immutable\n",
        "\n",
        "spam = [\"cat\", \"bat\", True, 3.1415, 42]\n",
        "spam[1] = \"zebra\"\n",
        "print(spam[1])\n",
        "\n",
        "lunch = (\"ham\", \"cookie\", \"apple\")\n",
        "#lunch[1] = \"brownie\" #doesn't work since tuples are immutable\n",
        "\n",
        "lunch = list(lunch)\n",
        "lunch[1] = \"carrots\"\n",
        "print(lunch)"
      ],
      "execution_count": null,
      "outputs": []
    },
    {
      "cell_type": "markdown",
      "metadata": {
        "id": "ywXYn86ZTxoz"
      },
      "source": [
        "Weird copy thing, Part 1"
      ]
    },
    {
      "cell_type": "code",
      "metadata": {
        "id": "OPcaPp-JT0st"
      },
      "source": [
        "spam = [0,1,2,3,4,5,6,7]\n",
        "cheese = spam\n",
        "cheese[1] = \"test text\"\n",
        "print(spam)\n",
        "\n",
        "def random_function(myList):\n",
        "  spam.append(\"function appended text\")\n",
        "\n",
        "random_function(spam)\n",
        "print(spam)"
      ],
      "execution_count": null,
      "outputs": []
    },
    {
      "cell_type": "markdown",
      "metadata": {
        "id": "GIPsQOe-Uqd5"
      },
      "source": [
        "Weird copy thing, Part 2- the solution"
      ]
    },
    {
      "cell_type": "code",
      "metadata": {
        "id": "3FUuBR_JUuLv"
      },
      "source": [
        "import copy\n",
        "spam = [1,2,3,4,5,6,7]\n",
        "cheese = copy.copy(spam)\n",
        "cheese[1] = \"test text\"\n",
        "print(spam)\n",
        "print(cheese)"
      ],
      "execution_count": null,
      "outputs": []
    }
  ]
}
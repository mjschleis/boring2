{
  "nbformat": 4,
  "nbformat_minor": 0,
  "metadata": {
    "colab": {
      "name": "Ch7 Pattern Matching with Regular Expressions.ipynb",
      "provenance": [],
      "authorship_tag": "ABX9TyPfYOXekQhMixU/cKBOG23A",
      "include_colab_link": true
    },
    "kernelspec": {
      "name": "python3",
      "display_name": "Python 3"
    },
    "language_info": {
      "name": "python"
    }
  },
  "cells": [
    {
      "cell_type": "markdown",
      "metadata": {
        "id": "view-in-github",
        "colab_type": "text"
      },
      "source": [
        "<a href=\"https://colab.research.google.com/github/mjschleis/boring2/blob/main/Ch7_Pattern_Matching_with_Regular_Expressions.ipynb\" target=\"_parent\"><img src=\"https://colab.research.google.com/assets/colab-badge.svg\" alt=\"Open In Colab\"/></a>"
      ]
    },
    {
      "cell_type": "markdown",
      "metadata": {
        "id": "CAkdn0RidWAS"
      },
      "source": [
        "Regular Expressions aka \"regex\" is the pattern the characters in your text have.  Emails, dates, phone numbers have recognizable patterns of specific symbols or quantity of numbers in a row.  You can construct a search for strings with this pattern."
      ]
    },
    {
      "cell_type": "code",
      "metadata": {
        "id": "fnLrAhHQJ4H2"
      },
      "source": [
        "#this identifies whether a given string is exactly a phone number and nothing else\n",
        "\n",
        "def isPhoneNumber(text):\n",
        "  if len(text) != 12:\n",
        "    return False\n",
        "  for i in range(0, 3):\n",
        "    if not text[i].isdecimal():\n",
        "      return False\n",
        "    if text[3] != '-':\n",
        "      return False\n",
        "  for i in range(4, 7):\n",
        "    if not text[i].isdecimal():\n",
        "      return False\n",
        "  if text[7] != '-':\n",
        "    return False\n",
        "  for i in range(8, 12):\n",
        "    if not text[i].isdecimal():\n",
        "      return False\n",
        "  return True\n",
        "\n",
        "print('Is 415-555-4242 a phone number?')\n",
        "print(isPhoneNumber('415-555-4242'))\n",
        "print('Is Moshi moshi a phone number?')\n",
        "print(isPhoneNumber('Moshi moshi'))"
      ],
      "execution_count": null,
      "outputs": []
    },
    {
      "cell_type": "code",
      "metadata": {
        "id": "cPIEkEjgKvdH"
      },
      "source": [
        "#this identifies whether there is a phone number anywhere in a longer string\n",
        "\n",
        "message = 'Call me at 415-555-1011 tomorrow. 415-555-9999 is my office.'\n",
        "for i in range(len(message)):\n",
        "  chunk = message[i:i+12]\n",
        "  if isPhoneNumber(chunk):\n",
        "    print('Phone number found: ' + chunk)\n",
        "print('Done')"
      ],
      "execution_count": null,
      "outputs": []
    },
    {
      "cell_type": "markdown",
      "metadata": {
        "id": "IigjhI-sdvhd"
      },
      "source": [
        "The above was the inefficient way of doing it.  The re library simplifies this\n",
        "\n",
        "\n"
      ]
    },
    {
      "cell_type": "code",
      "metadata": {
        "colab": {
          "base_uri": "https://localhost:8080/"
        },
        "id": "oKI1rUDYLomF",
        "outputId": "718144fd-24b3-4dcf-846e-702ffbd4b033"
      },
      "source": [
        "import re\n",
        "\n",
        "phoneNumRegex = re.compile(r'\\d\\d\\d-\\d\\d\\d-\\d\\d\\d\\d') #this variable now contains a regex object\n",
        "phoneNumRegex2 = re.compile(r'\\d{3}-\\d{3}-\\d{4}')\n",
        "\n",
        "mo = phoneNumRegex.search('My number is 415-555-4242.')\n",
        "print('Phone number found: ' + mo.group())\n",
        "\n"
      ],
      "execution_count": null,
      "outputs": [
        {
          "output_type": "stream",
          "text": [
            "Phone number found: 415-555-4242\n"
          ],
          "name": "stdout"
        }
      ]
    },
    {
      "cell_type": "markdown",
      "metadata": {
        "id": "a5FO_gCui6v1"
      },
      "source": [
        ".search() method of regex objects.  If it finds something, it returns the \"group\" of matching characters meeting the parameters it was given as a match object\n",
        "match object\n",
        ".group() method of match objects\n"
      ]
    },
    {
      "cell_type": "code",
      "metadata": {
        "colab": {
          "base_uri": "https://localhost:8080/"
        },
        "id": "M97KHYHdizTt",
        "outputId": "310a042c-78ab-47ce-f019-eb46d215357e"
      },
      "source": [
        "import re\n",
        "\n",
        "mikeRegex = re.compile(r'\\((\\d\\d\\d\\)) (\\d\\d\\d-\\d\\d\\d\\d)') #special escape character to have a parenthesis in here too\n",
        "mo = mikeRegex.search(\"mike rules (123) 123-1234 cool guy\") \n",
        "\n",
        "print(mo.groups())  #note the plural\n",
        "print(mo.group(0))"
      ],
      "execution_count": null,
      "outputs": [
        {
          "output_type": "stream",
          "text": [
            "('123)', '123-1234')\n",
            "(123) 123-1234\n"
          ],
          "name": "stdout"
        }
      ]
    },
    {
      "cell_type": "markdown",
      "metadata": {
        "id": "PzBNxrdY9adK"
      },
      "source": [
        "Matching Multiple Groups with the Pipe, question mark, or *\n",
        "\n",
        "*   r\"Batman|Tina\" #either/or (first one)\n",
        "*   r\"Bat(wo)?man\" #the wo part doesn't need to be there.  This might be used to find full phone numbers whether it has a area code or not\n",
        "*   r\"Bat(wo)*man\" #the wo part can be there 0 or any number of times\n",
        "*   r\"Bat(wo)+man\" #the wo part can be there 1 or more times\n",
        "\n",
        "\n",
        "\n"
      ]
    },
    {
      "cell_type": "code",
      "metadata": {
        "id": "qgMRpADl9b8g"
      },
      "source": [
        "batRegex = re.compile(r'Bat(man|mobile|copter|bat)')\n",
        "mo = batRegex.search('Batmobile lost a wheel')\n",
        "print(mo.group())\n",
        "print(mo.group(1))"
      ],
      "execution_count": null,
      "outputs": []
    },
    {
      "cell_type": "code",
      "metadata": {
        "id": "haYHy2Db-ehf"
      },
      "source": [
        "batRegex = re.compile(r'Bat(wo)?man')\n",
        "mo1 = batRegex.search('The Adventures of Batman')\n",
        "print(mo1.group())\n",
        "mo2 = batRegex.search('The Adventures of Batwoman')\n",
        "print(mo2.group())"
      ],
      "execution_count": null,
      "outputs": []
    },
    {
      "cell_type": "markdown",
      "metadata": {
        "id": "4P0Co4zu_CQm"
      },
      "source": [
        "Greedy vs. Non-Greedy\n",
        "\n",
        "matching the longest possible string vs. matching the shortest possible string that fits our criteria"
      ]
    },
    {
      "cell_type": "markdown",
      "metadata": {
        "id": "ShXq036UEUvI"
      },
      "source": [
        ".findall() method"
      ]
    }
  ]
}
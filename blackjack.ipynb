{
  "nbformat": 4,
  "nbformat_minor": 0,
  "metadata": {
    "kernelspec": {
      "display_name": "Python 3",
      "language": "python",
      "name": "python3"
    },
    "language_info": {
      "codemirror_mode": {
        "name": "ipython",
        "version": 3
      },
      "file_extension": ".py",
      "mimetype": "text/x-python",
      "name": "python",
      "nbconvert_exporter": "python",
      "pygments_lexer": "ipython3",
      "version": "3.6.5"
    },
    "colab": {
      "name": "Untitled5.ipynb",
      "provenance": [],
      "include_colab_link": true
    }
  },
  "cells": [
    {
      "cell_type": "markdown",
      "metadata": {
        "id": "view-in-github",
        "colab_type": "text"
      },
      "source": [
        "<a href=\"https://colab.research.google.com/github/mjschleis/boring2/blob/main/blackjack.ipynb\" target=\"_parent\"><img src=\"https://colab.research.google.com/assets/colab-badge.svg\" alt=\"Open In Colab\"/></a>"
      ]
    },
    {
      "cell_type": "code",
      "metadata": {
        "id": "r2FvyftD4bMn"
      },
      "source": [
        "import pandas as pd\n",
        "import math\n",
        "import random"
      ],
      "execution_count": null,
      "outputs": []
    },
    {
      "cell_type": "code",
      "metadata": {
        "id": "bw_BSf874bMq"
      },
      "source": [
        "hard_data = [\n",
        "{\"2\": \"S\", \"3\": \"S\", \"4\":\"S\", \"5\":\"S\", \"6\":\"S\", \"7\": \"S\", \"8\": \"S\", \"9\": \"S\", \"10\":\"S\", \"1\": \"S\"},#20\n",
        "{\"2\": \"S\", \"3\": \"S\", \"4\":\"S\", \"5\":\"S\", \"6\":\"S\", \"7\": \"S\", \"8\": \"S\", \"9\": \"S\", \"10\":\"S\", \"1\": \"S\"},\n",
        "{\"2\": \"S\", \"3\": \"S\", \"4\":\"S\", \"5\":\"S\", \"6\":\"S\", \"7\": \"S\", \"8\": \"S\", \"9\": \"S\", \"10\":\"S\", \"1\": \"S\"},\n",
        "{\"2\": \"S\", \"3\": \"S\", \"4\":\"S\", \"5\":\"S\", \"6\":\"S\", \"7\": \"S\", \"8\": \"S\", \"9\": \"S\", \"10\":\"S\", \"1\": \"S\"},\n",
        "{\"2\": \"S\", \"3\": \"S\", \"4\":\"S\", \"5\":\"S\", \"6\":\"S\", \"7\": \"H\", \"8\": \"H\", \"9\": \"H\", \"10\":\"H\", \"1\": \"H\"},\n",
        "{\"2\": \"S\", \"3\": \"S\", \"4\":\"S\", \"5\":\"S\", \"6\":\"S\", \"7\": \"H\", \"8\": \"H\", \"9\": \"H\", \"10\":\"H\", \"1\": \"H\"},#15\n",
        "{\"2\": \"S\", \"3\": \"S\", \"4\":\"S\", \"5\":\"S\", \"6\":\"S\", \"7\": \"H\", \"8\": \"H\", \"9\": \"H\", \"10\":\"H\", \"1\": \"H\"},\n",
        "{\"2\": \"S\", \"3\": \"S\", \"4\":\"S\", \"5\":\"S\", \"6\":\"S\", \"7\": \"H\", \"8\": \"H\", \"9\": \"H\", \"10\":\"H\", \"1\": \"H\"},\n",
        "{\"2\": \"H\", \"3\": \"H\", \"4\":\"S\", \"5\":\"S\", \"6\":\"S\", \"7\": \"H\", \"8\": \"H\", \"9\": \"H\", \"10\":\"H\", \"1\": \"H\"},\n",
        "{\"2\": \"D\", \"3\": \"D\", \"4\":\"D\", \"5\":\"D\", \"6\":\"D\", \"7\": \"D\", \"8\": \"D\", \"9\": \"D\", \"10\":\"D\", \"1\": \"D\"},\n",
        "{\"2\": \"D\", \"3\": \"D\", \"4\":\"D\", \"5\":\"D\", \"6\":\"D\", \"7\": \"D\", \"8\": \"D\", \"9\": \"D\", \"10\":\"H\", \"1\": \"H\"},#10\n",
        "{\"2\": \"H\", \"3\": \"S\", \"4\":\"S\", \"5\":\"S\", \"6\":\"S\", \"7\": \"H\", \"8\": \"H\", \"9\": \"H\", \"10\":\"H\", \"1\": \"H\"},\n",
        "{\"2\": \"H\", \"3\": \"H\", \"4\":\"H\", \"5\":\"H\", \"6\":\"H\", \"7\": \"H\", \"8\": \"H\", \"9\": \"H\", \"10\":\"H\", \"1\": \"H\"},\n",
        "{\"2\": \"H\", \"3\": \"H\", \"4\":\"H\", \"5\":\"H\", \"6\":\"H\", \"7\": \"H\", \"8\": \"H\", \"9\": \"H\", \"10\":\"H\", \"1\": \"H\"},      \n",
        "{\"2\": \"H\", \"3\": \"H\", \"4\":\"H\", \"5\":\"H\", \"6\":\"H\", \"7\": \"H\", \"8\": \"H\", \"9\": \"H\", \"10\":\"H\", \"1\": \"H\"},\n",
        "{\"2\": \"H\", \"3\": \"H\", \"4\":\"H\", \"5\":\"H\", \"6\":\"H\", \"7\": \"H\", \"8\": \"H\", \"9\": \"H\", \"10\":\"H\", \"1\": \"H\"},#5\n",
        "{\"2\": \"H\", \"3\": \"H\", \"4\":\"H\", \"5\":\"H\", \"6\":\"H\", \"7\": \"H\", \"8\": \"H\", \"9\": \"H\", \"10\":\"H\", \"1\": \"H\"},\n",
        "{\"2\": \"H\", \"3\": \"H\", \"4\":\"H\", \"5\":\"H\", \"6\":\"H\", \"7\": \"H\", \"8\": \"H\", \"9\": \"H\", \"10\":\"H\", \"1\": \"H\"}]#3\n",
        "\n",
        "soft_data = [\"2\": \"S\",  \"3\": \"S\", \"4\":\"S\", \"5\":\"S\", \"6\":\"S\", \"7\": \"S\", \"8\": \"S\", \"9\":\"S\", \"10\": \"S\", \"1\":\"S\"}#11\n",
        "{\"2\": \"S\",  \"3\": \"S\", \"4\":\"S\", \"5\":\"S\", \"6\":\"S\", \"7\": \"S\", \"8\": \"S\", \"9\":\"S\", \"10\": \"S\", \"1\":\"S\"},#10\n",
        "{\"2\": \"S\", \"3\": \"S\", \"4\":\"S\", \"5\":\"S\", \"6\":\"S\", \"7\": \"S\", \"8\": \"S\", \"9\":\"S\", \"10\": \"S\", \"1\":\"S\"},#9\n",
        "{\"2\": \"D\", \"3\": \"D\", \"4\":\"D\", \"5\":\"D\", \"6\":\"D\", \"7\": \"S\", \"8\": \"S\", \"9\":\"H\", \"10\": \"H\", \"1\":\"H\"},#8\n",
        "{\"2\": \"H\", \"3\": \"D\", \"4\":\"D\", \"5\":\"D\", \"6\":\"D\", \"7\": \"H\", \"8\": \"H\", \"9\":\"H\", \"10\": \"H\", \"1\":\"H\"},#7\n",
        "{\"2\": \"H\", \"3\": \"H\", \"4\":\"D\", \"5\":\"D\", \"6\":\"D\", \"7\": \"H\", \"8\": \"H\", \"9\":\"H\", \"10\": \"H\", \"1\":\"H\"},#6\n",
        "{\"2\": \"H\", \"3\": \"H\", \"4\":\"D\", \"5\":\"D\", \"6\":\"D\", \"7\": \"H\", \"8\": \"H\", \"9\":\"H\", \"10\": \"H\", \"1\":\"H\"},#5\n",
        "{\"2\": \"H\", \"3\": \"H\", \"4\":\"H\", \"5\":\"D\", \"6\":\"D\", \"7\": \"H\", \"8\": \"H\", \"9\":\"H\", \"10\": \"H\", \"1\":\"H\"},#4\n",
        "{\"2\": \"H\", \"3\": \"H\", \"4\":\"H\", \"5\":\"D\", \"6\":\"D\", \"7\": \"H\", \"8\": \"H\", \"9\":\"H\", \"10\": \"H\", \"1\":\"H\"}]#3\n",
        "\n",
        "split_data = [{\"2\": \"Y\",  \"3\": \"Y\", \"4\":\"Y\", \"5\":\"Y\", \"6\":\"Y\", \"7\": \"Y\", \"8\": \"Y\", \"9\": \"Y\", \"10\":\"Y\", \"1\": \"Y\"}, #1\n",
        "{\"2\": \"N\", \"3\": \"N\", \"4\":\"N\", \"5\":\"N\", \"6\":\"N\", \"7\": \"N\", \"8\": \"N\", \"9\": \"N\", \"10\":\"N\", \"1\": \"N\"},#10\n",
        "{\"2\": \"Y\", \"3\": \"Y\", \"4\":\"Y\", \"5\":\"Y\", \"6\":\"Y\", \"7\": \"N\", \"8\": \"Y\", \"9\": \"Y\", \"10\":\"N\", \"1\": \"N\"},#9\n",
        "{\"2\": \"Y\", \"3\": \"Y\", \"4\":\"Y\", \"5\":\"Y\", \"6\":\"Y\", \"7\": \"Y\", \"8\": \"Y\", \"9\": \"Y\", \"10\":\"Y\", \"1\": \"Y\"},#8\n",
        "{\"2\": \"Y\", \"3\": \"Y\", \"4\":\"Y\", \"5\":\"Y\", \"6\":\"Y\", \"7\": \"Y\", \"8\": \"N\", \"9\": \"N\", \"10\":\"N\", \"1\": \"N\"},#7\n",
        "{\"2\": \"Y\", \"3\": \"Y\", \"4\":\"Y\", \"5\":\"Y\", \"6\":\"Y\", \"7\": \"Y\", \"8\": \"N\", \"9\": \"N\", \"10\":\"N\", \"1\": \"N\"},#6 \n",
        "{\"2\": \"N\", \"3\": \"N\", \"4\":\"N\", \"5\":\"N\", \"6\":\"N\", \"7\": \"N\", \"8\": \"N\", \"9\": \"N\", \"10\":\"N\", \"1\": \"N\"},#5\n",
        "{\"2\": \"N\", \"3\": \"N\", \"4\":\"N\", \"5\":\"Y\", \"6\":\"Y\", \"7\": \"N\", \"8\": \"N\", \"9\": \"N\", \"10\":\"N\", \"1\": \"N\"},#4\n",
        "{\"2\": \"Y\", \"3\": \"Y\", \"4\":\"Y\", \"5\":\"Y\", \"6\":\"Y\", \"7\": \"Y\", \"8\": \"N\", \"9\": \"N\", \"10\":\"N\", \"1\": \"N\"},#3\n",
        "{\"2\": \"Y\", \"3\": \"Y\", \"4\":\"Y\", \"5\":\"Y\", \"6\":\"Y\", \"7\": \"Y\", \"8\": \"N\", \"9\": \"N\", \"10\":\"N\", \"1\": \"N\"}]#2\n",
        "\n",
        "\n"
      ],
      "execution_count": null,
      "outputs": []
    },
    {
      "cell_type": "code",
      "metadata": {
        "id": "bMJo0XTT4bMr"
      },
      "source": [
        "df_hard = pd.DataFrame(hard_data, index = [\"20\", \"19\", \"18\" ,\" 17\", \"16\", \"15\", \"14\", \"13\", \"12\", \"11\", \"10\", \"9\", \"8\", \"7\", \"6\", \"5\", \"4\", \"3\"])\n",
        "df_soft = pd.DataFrame(soft_data, index = [\"11\", \"10\", \"9\", \"8\", \"7\", \"6\", \"5\", \"4\", \"3\"])\n",
        "df_split = pd.DataFrame(split_data, index = [\"2\", \"20\", \"18\", \"16\", \"14\", \"12\", \"10\", \"8\", \"6\", \"4\"])\n",
        "\n"
      ],
      "execution_count": null,
      "outputs": []
    },
    {
      "cell_type": "code",
      "metadata": {
        "scrolled": true,
        "id": "9ZGCq4Wj4bMr"
      },
      "source": [
        "def shuffler():\n",
        "    deck = list(range(1,52))\n",
        "    random.shuffle(deck) #returns list of shuffled cards 1-52\n",
        "\n",
        "    deck = [math.ceil(x/4) for x in deck]\n",
        "    deck = [min(y,10) for y in deck] #returns just the value of the cards with Ace = 1\n",
        "    return(deck)"
      ],
      "execution_count": null,
      "outputs": []
    },
    {
      "cell_type": "code",
      "metadata": {
        "scrolled": true,
        "id": "NN5S-3Xf4bMs"
      },
      "source": [
        "def hard():\n",
        "    answer = input(f\"Do you (H)it, (S)tand, or (D)ouble Down?\")\n",
        "    correct = df_hard.loc[player_total][dcard1]\n",
        "    if(answer == correct):\n",
        "        print(\"Correct!\")\n",
        "    else:\n",
        "        print(f\"Sorry, the correct answer was {correct}\")\n",
        "    \n",
        "    "
      ],
      "execution_count": null,
      "outputs": []
    },
    {
      "cell_type": "code",
      "metadata": {
        "id": "BuC02vKB4bMt"
      },
      "source": [
        "def split():\n",
        "    answer = input(f\"Do you (Y)Split or (N)ot?\")\n",
        "    correct = df_split.loc[player_total][dcard1]\n",
        "    if(answer == correct):\n",
        "        print(\"Correct!\")\n",
        "    else:\n",
        "        print(f\"Sorry, the correct answer was {correct}\")\n",
        "    "
      ],
      "execution_count": null,
      "outputs": []
    },
    {
      "cell_type": "code",
      "metadata": {
        "id": "6Lb83ZD54bMt"
      },
      "source": [
        "def soft():\n",
        "    answer = input(f\"Do you (H)it, (S)tand, or (D)ouble Down?\")\n",
        "    correct = df_soft.loc[player_total][dcard1]\n",
        "    if(answer == correct):\n",
        "        print(\"Correct!\")\n",
        "    else:\n",
        "        print(f\"Sorry, the correct answer was {correct}\")\n",
        "    "
      ],
      "execution_count": null,
      "outputs": []
    },
    {
      "cell_type": "code",
      "metadata": {
        "id": "hdP7yXtO4bMu",
        "outputId": "0cc9f3a0-986e-487b-8a36-15df97269720"
      },
      "source": [
        "deck = shuffler()\n",
        "card1=deck[0]\n",
        "card2=deck[1]\n",
        "player_total = str(card1 + card2)\n",
        "dcard1 = str(deck[49])\n",
        "\n",
        "print(f\"Your hand has these two card values: \\n {card1} and {card2}\")\n",
        "print(f\"And dealer shows a {dcard1}.\")\n",
        "\n",
        "if (card1 == card2):\n",
        "    pair()\n",
        "elif (card1 > 1) and (card2 > 1) and (card1 != card2):\n",
        "    hard()\n",
        "elif (card1 == 1) or (card2 == 1):\n",
        "    soft()\n",
        "    \n"
      ],
      "execution_count": null,
      "outputs": [
        {
          "output_type": "stream",
          "text": [
            "Your hand has these two card values: \n",
            " 8 and 10\n",
            "And dealer shows a 10.\n",
            "Do you (H)it, (S)tand, or (D)ouble Down?S\n",
            "Correct!\n"
          ],
          "name": "stdout"
        }
      ]
    }
  ]
}
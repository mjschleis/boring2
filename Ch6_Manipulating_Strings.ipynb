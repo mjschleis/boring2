{
  "nbformat": 4,
  "nbformat_minor": 0,
  "metadata": {
    "colab": {
      "name": "Ch6 Manipulating Strings.ipynb",
      "provenance": [],
      "authorship_tag": "ABX9TyPHESBKDswiWHt8nw3rL4hu",
      "include_colab_link": true
    },
    "kernelspec": {
      "name": "python3",
      "display_name": "Python 3"
    },
    "language_info": {
      "name": "python"
    }
  },
  "cells": [
    {
      "cell_type": "markdown",
      "metadata": {
        "id": "view-in-github",
        "colab_type": "text"
      },
      "source": [
        "<a href=\"https://colab.research.google.com/github/mjschleis/boring2/blob/main/Ch6_Manipulating_Strings.ipynb\" target=\"_parent\"><img src=\"https://colab.research.google.com/assets/colab-badge.svg\" alt=\"Open In Colab\"/></a>"
      ]
    },
    {
      "cell_type": "markdown",
      "metadata": {
        "id": "uUXkrQv9h3Um"
      },
      "source": [
        "String Types"
      ]
    },
    {
      "cell_type": "code",
      "metadata": {
        "id": "otDIHWpth3bY"
      },
      "source": [
        "#String Literal\n",
        "print('single quotes')\n",
        "print(\"double quotes help's with aposterphes\")\n",
        "print('forward slash aka escape character\\'s do too')\n",
        "print('to make a forward slash \\\\ like this')\n",
        "print(\"\\n\")\n",
        "\n",
        "#Raw String\n",
        "print(r'this is my referred way to do \\forward slashes') #useful in paths to files\n",
        "print(\"\\n\")\n",
        "\n",
        "#Triple quotes\n",
        "print('''triple quotes\n",
        "do line break's \n",
        "formatting things''')\n",
        "print(\"/n\")\n",
        "\"\"\"triple quotes also are used for \n",
        "multple line commentary\"\"\"\n"
      ],
      "execution_count": null,
      "outputs": []
    },
    {
      "cell_type": "markdown",
      "metadata": {
        "id": "Sxje4-Boi6Oc"
      },
      "source": [
        "Slicing and Indexing strings // in, not in"
      ]
    },
    {
      "cell_type": "code",
      "metadata": {
        "id": "p2gZVwaki6Wm"
      },
      "source": [
        "spam = \"hello world\"\n",
        "print(spam[0])\n",
        "print(spam[:8])\n",
        "\n",
        "print(\"hel\" in spam)\n",
        "print(\"mike\" not in spam)"
      ],
      "execution_count": null,
      "outputs": []
    },
    {
      "cell_type": "markdown",
      "metadata": {
        "id": "D6nmmGZ9ri86"
      },
      "source": [
        "Printing variables inside strings"
      ]
    },
    {
      "cell_type": "code",
      "metadata": {
        "id": "vD6GfY6BrteU"
      },
      "source": [
        "name = \"Mike\"\n",
        "age = 400\n",
        "\n",
        "print(\"Hello, my name is \"+name+\" and I am \" + str(age)+\" years old\")\n",
        "print(\"Hello, my name is %s and I am %s years old\" %(name, age))\n",
        "print(f\"My name is {name} and next year my age will be {age +1}.\")\n",
        "\n"
      ],
      "execution_count": null,
      "outputs": []
    },
    {
      "cell_type": "markdown",
      "metadata": {
        "id": "vZPaxLFisZE6"
      },
      "source": [
        "upper/lower, isupper, islower, isX"
      ]
    },
    {
      "cell_type": "code",
      "metadata": {
        "id": "vbX4ZMFksZTD"
      },
      "source": [
        "spam = \"hello WORLD\"\n",
        "print(spam.upper()) #these help with user input validation\n",
        "print(spam.lower())\n",
        "print(\"\\n\") \n",
        "\n",
        "spam_upper=spam.upper()\n",
        "print(spam_upper.isupper())\n",
        "print(\"lower string\".islower())\n",
        "print(\"lower string\".upper().islower())\n",
        "print(\"\\n\")\n",
        "\n",
        "#isalpha()\n",
        "#isalnum()\n",
        "#isdecimal()\n",
        "#isspace()\n",
        "#istitle()\n",
        "print(spam.startswith(\"hello\"))\n",
        "print(spam.endswith(\"LD\")) #these are sometimes better than the == comparison operator if you only need to check a part of a string\n",
        "\n"
      ],
      "execution_count": null,
      "outputs": []
    },
    {
      "cell_type": "markdown",
      "metadata": {
        "id": "7o-xEoW-GlkY"
      },
      "source": [
        "join, split\n",
        "\n",
        "---\n",
        "\n",
        "\n",
        "methods can convert between a list and a string if you specifcy how to handle each item in the list"
      ]
    },
    {
      "cell_type": "code",
      "metadata": {
        "id": "jSfaOuaPGn6-"
      },
      "source": [
        "#join - a list to be a string\n",
        "print(', '.join(['cats', 'rats', 'bats']))\n",
        "print(' '.join(['My', 'name', 'is', 'Simon']))\n",
        "print('ABC'.join(['My', 'name', 'is', 'Simon']))\n",
        "print(\"\\n\")\n",
        "#split - into a list\n",
        "print(\"MyABCnameABCisABCSimon\".split(\"ABC\"))"
      ],
      "execution_count": null,
      "outputs": []
    },
    {
      "cell_type": "markdown",
      "metadata": {
        "id": "hsZf0x3GHZN_"
      },
      "source": [
        "Splitting Strings with the partition() Method"
      ]
    },
    {
      "cell_type": "code",
      "metadata": {
        "id": "pqaU2ipfHZV1"
      },
      "source": [
        "print(\"hello, world!\".partition(\"w\")) #tuple output\n",
        "print(\"hello, world!\".partition(\"o\")) #first occurance only\n",
        "print(\"hello, world!\".partition(\"mike\")) #output is a 3 element tuple even if the last 2 are blank\n",
        "first, sep, last = \"hello, world!\".partition(\"o\")\n",
        "print (first)"
      ],
      "execution_count": null,
      "outputs": []
    },
    {
      "cell_type": "markdown",
      "metadata": {
        "id": "Ii3iYZngHjke"
      },
      "source": [
        "Justifying Text with the rjust(), ljust(), and center() Methods"
      ]
    },
    {
      "cell_type": "code",
      "metadata": {
        "id": "Z77ylnkSHleU"
      },
      "source": [
        "#to do"
      ],
      "execution_count": null,
      "outputs": []
    },
    {
      "cell_type": "markdown",
      "metadata": {
        "id": "Ys-1VHyJHm24"
      },
      "source": [
        "Removing Whitespace with the strip(), rstrip(), and lstrip() Methods"
      ]
    },
    {
      "cell_type": "code",
      "metadata": {
        "id": "Xcm48mvLHpMc"
      },
      "source": [
        "#to do"
      ],
      "execution_count": null,
      "outputs": []
    },
    {
      "cell_type": "markdown",
      "metadata": {
        "id": "PGRa9pswHrN_"
      },
      "source": [
        "Numeric Values of Characters with the ord() and chr() Functions"
      ]
    },
    {
      "cell_type": "code",
      "metadata": {
        "id": "XdIF428fHsXe"
      },
      "source": [
        "#to do"
      ],
      "execution_count": null,
      "outputs": []
    },
    {
      "cell_type": "markdown",
      "metadata": {
        "id": "mZRopjTlHuFX"
      },
      "source": [
        "Copying and Pasting Strings with the pyperclip Module"
      ]
    },
    {
      "cell_type": "code",
      "metadata": {
        "id": "_aXlphyCHucn"
      },
      "source": [
        "import pyperclip #I couldn't get this to go.  I wasn't all that interested in this part\n",
        "pyperclip.copy('Hello, world!')\n",
        "pyperclip.paste()"
      ],
      "execution_count": null,
      "outputs": []
    },
    {
      "cell_type": "markdown",
      "metadata": {
        "id": "q6MzGNJfIPfI"
      },
      "source": [
        "Project: Multi-Clipboard Automatic Messages"
      ]
    },
    {
      "cell_type": "code",
      "metadata": {
        "id": "aWdus23yIyz1"
      },
      "source": [
        "#to do"
      ],
      "execution_count": null,
      "outputs": []
    },
    {
      "cell_type": "markdown",
      "metadata": {
        "id": "pQOiY5qnIS9F"
      },
      "source": [
        "Project: Adding Bullets to Wiki Markup"
      ]
    },
    {
      "cell_type": "code",
      "metadata": {
        "id": "PIgfAgY1I0gF"
      },
      "source": [
        "#to do"
      ],
      "execution_count": null,
      "outputs": []
    },
    {
      "cell_type": "markdown",
      "metadata": {
        "id": "FeroKOooIU2v"
      },
      "source": [
        "A Short Progam: Pig Latin"
      ]
    },
    {
      "cell_type": "code",
      "metadata": {
        "id": "UlE8u6b4I1st"
      },
      "source": [
        "#to do"
      ],
      "execution_count": null,
      "outputs": []
    },
    {
      "cell_type": "markdown",
      "metadata": {
        "id": "fkCY3hD_IjvO"
      },
      "source": [
        "Practice Projects \n",
        "1.   Table Printer\n",
        "2.   Zombie Dice Bots\n",
        "\n"
      ]
    }
  ]
}
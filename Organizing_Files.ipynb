{
  "nbformat": 4,
  "nbformat_minor": 0,
  "metadata": {
    "colab": {
      "name": "Organizing Files.ipynb",
      "provenance": [],
      "authorship_tag": "ABX9TyNJfeukwkjp8cs2dgcPnrso",
      "include_colab_link": true
    },
    "kernelspec": {
      "name": "python3",
      "display_name": "Python 3"
    },
    "language_info": {
      "name": "python"
    }
  },
  "cells": [
    {
      "cell_type": "markdown",
      "metadata": {
        "id": "view-in-github",
        "colab_type": "text"
      },
      "source": [
        "<a href=\"https://colab.research.google.com/github/mjschleis/boring2/blob/main/Organizing_Files.ipynb\" target=\"_parent\"><img src=\"https://colab.research.google.com/assets/colab-badge.svg\" alt=\"Open In Colab\"/></a>"
      ]
    },
    {
      "cell_type": "markdown",
      "metadata": {
        "id": "DacUhA4tcd-i"
      },
      "source": [
        "**I imagine this might be useful in creating the folder structure for a new rate revision**"
      ]
    },
    {
      "cell_type": "code",
      "metadata": {
        "colab": {
          "base_uri": "https://localhost:8080/"
        },
        "id": "6xBOsxfhRf4h",
        "outputId": "3a7afe82-3589-44f1-ce9f-a4c42d1eb7b9"
      },
      "source": [
        "!pip install shutil #probably doesn't work on collabs?"
      ],
      "execution_count": 1,
      "outputs": [
        {
          "output_type": "stream",
          "text": [
            "\u001b[31mERROR: Could not find a version that satisfies the requirement shutil (from versions: none)\u001b[0m\n",
            "\u001b[31mERROR: No matching distribution found for shutil\u001b[0m\n"
          ],
          "name": "stdout"
        }
      ]
    },
    {
      "cell_type": "markdown",
      "metadata": {
        "id": "T5pkqZewRrND"
      },
      "source": [
        "shutil (shell utilities module)  The shutil module provides functions for copying files, as well as entire folders."
      ]
    },
    {
      "cell_type": "code",
      "metadata": {
        "id": "1p-oa4YGRrTA"
      },
      "source": [
        "p = Path.home()\n",
        "shutil.copy(p / 'spam.txt', p / 'some_folder') #copies the text file to some_folder folder\n",
        "shutil.copytree(p / 'spam', p / 'spam_backup') #copies the whole folder\n",
        "shutil.copytree(p / 'spam', p / 'spam_backup') #cut/pastes the whole folder, overwriting if necessary\n",
        "shutil.move('C:\\\\bacon.txt', 'C:\\\\eggs\\\\new_bacon.txt') #new name"
      ],
      "execution_count": null,
      "outputs": []
    },
    {
      "cell_type": "markdown",
      "metadata": {
        "id": "rkX7PSc-SArH"
      },
      "source": [
        "Copying Files and Folders"
      ]
    },
    {
      "cell_type": "markdown",
      "metadata": {
        "id": "TNz7wNjUSAt3"
      },
      "source": [
        "Moving and Renaming Files and Folders"
      ]
    },
    {
      "cell_type": "markdown",
      "metadata": {
        "id": "0n4mMqvvSAwo"
      },
      "source": [
        "Permanently deleting files and folders"
      ]
    },
    {
      "cell_type": "markdown",
      "metadata": {
        "id": "yaBgdQOGZ14p"
      },
      "source": [
        "Calling os.unlink(path) will delete the file at path.\n",
        "\n",
        "\n",
        "\n",
        "Calling os.rmdir(path) will delete the folder at path. This folder must be empty of any files or folders.\n",
        "\n",
        "\n",
        "\n",
        "Calling shutil.rmtree(path) will remove the folder at path, and all files and folders it contains will also be deleted"
      ]
    },
    {
      "cell_type": "markdown",
      "metadata": {
        "id": "Q8OhaWEJSAzi"
      },
      "source": [
        "Safe Deletes with the send2trash Module"
      ]
    },
    {
      "cell_type": "code",
      "metadata": {
        "id": "E3Bz1mTyaQpg"
      },
      "source": [
        "import send2trash\n",
        "baconFile = open('bacon.txt', 'a')   # creates the file\n",
        "baconFile.write('Bacon is not a vegetable.')\n",
        "baconFile.close()\n",
        "send2trash.send2trash('bacon.txt')\n",
        "#In general, you should always use the send2trash.send2trash() function to delete files and folders."
      ],
      "execution_count": null,
      "outputs": []
    },
    {
      "cell_type": "markdown",
      "metadata": {
        "id": "3Rz8KpmESA1w"
      },
      "source": [
        "Walking a Directory Tree"
      ]
    },
    {
      "cell_type": "code",
      "metadata": {
        "id": "KZSVuwI-aeKp"
      },
      "source": [
        "import os\n",
        "\n",
        "for folderName, subfolders, filenames in os.walk('C:\\\\delicious'):\n",
        "    print('The current folder is ' + folderName)\n",
        "\n",
        "    for subfolder in subfolders:\n",
        "        print('SUBFOLDER OF ' + folderName + ': ' + subfolder)\n",
        "\n",
        "    for filename in filenames:\n",
        "        print('FILE INSIDE ' + folderName + ': '+ filename)\n",
        "\n",
        "    print('')"
      ],
      "execution_count": null,
      "outputs": []
    },
    {
      "cell_type": "markdown",
      "metadata": {
        "id": "9nGABtVLSA4Y"
      },
      "source": [
        "Compressing files with the zipfile module"
      ]
    },
    {
      "cell_type": "code",
      "metadata": {
        "id": "5LtZpqqncvQp"
      },
      "source": [
        "#this is possible with a new module.  very intuitive.  reference if you need it I'd say.  "
      ],
      "execution_count": null,
      "outputs": []
    },
    {
      "cell_type": "markdown",
      "metadata": {
        "id": "cee6cBANcdLx"
      },
      "source": [
        ""
      ]
    },
    {
      "cell_type": "markdown",
      "metadata": {
        "id": "l6-DxjETSA7A"
      },
      "source": [
        "Reading Zip files; extracting zip files.  Creating/adding to zip files"
      ]
    },
    {
      "cell_type": "markdown",
      "metadata": {
        "id": "P0HlTW5bSA-X"
      },
      "source": [
        "(Projects)"
      ]
    }
  ]
}